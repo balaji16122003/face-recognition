{
 "cells": [
  {
   "cell_type": "code",
   "execution_count": 1,
   "id": "823392ad-4351-4884-af0f-92936c7a340f",
   "metadata": {},
   "outputs": [
    {
     "ename": "ModuleNotFoundError",
     "evalue": "No module named 'keras'",
     "output_type": "error",
     "traceback": [
      "\u001b[1;31m---------------------------------------------------------------------------\u001b[0m",
      "\u001b[1;31mModuleNotFoundError\u001b[0m                       Traceback (most recent call last)",
      "Cell \u001b[1;32mIn[1], line 4\u001b[0m\n\u001b[0;32m      2\u001b[0m \u001b[38;5;28;01mimport\u001b[39;00m \u001b[38;5;21;01mnumpy\u001b[39;00m \u001b[38;5;28;01mas\u001b[39;00m \u001b[38;5;21;01mnp\u001b[39;00m\n\u001b[0;32m      3\u001b[0m \u001b[38;5;28;01mimport\u001b[39;00m \u001b[38;5;21;01mpickle\u001b[39;00m\n\u001b[1;32m----> 4\u001b[0m \u001b[38;5;28;01mfrom\u001b[39;00m \u001b[38;5;21;01mkeras\u001b[39;00m\u001b[38;5;21;01m.\u001b[39;00m\u001b[38;5;21;01mapplications\u001b[39;00m\u001b[38;5;21;01m.\u001b[39;00m\u001b[38;5;21;01mvgg16\u001b[39;00m \u001b[38;5;28;01mimport\u001b[39;00m preprocess_input\n\u001b[0;32m      5\u001b[0m \u001b[38;5;28;01mfrom\u001b[39;00m \u001b[38;5;21;01mkeras\u001b[39;00m\u001b[38;5;21;01m.\u001b[39;00m\u001b[38;5;21;01mapplications\u001b[39;00m\u001b[38;5;21;01m.\u001b[39;00m\u001b[38;5;21;01mvgg16\u001b[39;00m \u001b[38;5;28;01mimport\u001b[39;00m VGG16\n\u001b[0;32m      6\u001b[0m \u001b[38;5;28;01mimport\u001b[39;00m \u001b[38;5;21;01msys\u001b[39;00m\n",
      "\u001b[1;31mModuleNotFoundError\u001b[0m: No module named 'keras'"
     ]
    }
   ],
   "source": [
    "import cv2\n",
    "import numpy as np\n",
    "import pickle\n",
    "from keras.applications.vgg16 import preprocess_input\n",
    "from keras.applications.vgg16 import VGG16\n",
    "import sys\n",
    "import os \n",
    "import openpyxl"
   ]
  },
  {
   "cell_type": "code",
   "execution_count": null,
   "id": "cd4e6b8e-6f4c-459e-bdb4-510f79b0880f",
   "metadata": {},
   "outputs": [
    {
     "name": "stdout",
     "output_type": "stream",
     "text": [
      "Recognizing Face Please Be in sufficient Lights...\n"
     ]
    }
   ],
   "source": [
    "size = 4\n",
    "datasets = 'datasets'\n",
    "\n",
    "# Part 1: Create fisherRecognizer \n",
    "print('Recognizing Face Please Be in sufficient Lights...') \n",
    "\n",
    "# Create a list of images and a list of corresponding names \n",
    "(images, labels, names, id) = ([], [], {}, 0) \n",
    "for (subdirs, dirs, files) in os.walk(datasets): \n",
    "    for subdir in dirs: \n",
    "        names[id] = subdir \n",
    "        subjectpath = os.path.join(datasets, subdir) \n",
    "        for filename in os.listdir(subjectpath): \n",
    "            path = subjectpath + '/' + filename \n",
    "            label = id\n",
    "            images.append(cv2.imread(path, 0)) \n",
    "            labels.append(int(label)) \n",
    "        id += 1\n",
    "(width, height) = (130, 100) \n",
    "\n",
    "# Create a Numpy array from the two lists above \n",
    "(images, labels) = [np.array(lis) for lis in [images, labels]] \n",
    "\n",
    "with open('Beard_classifier.pkl', 'rb') as file:\n",
    "    beard_classifier, beard_label_encoder = pickle.load(file)\n",
    "\n",
    "def preprocess_image(img_array):\n",
    "    img = cv2.resize(img_array, (224, 224))\n",
    "    img = np.expand_dims(img, axis=0)\n",
    "    img = preprocess_input(img)\n",
    "    return img\n",
    "\n",
    "def extract_feature(img_array):\n",
    "    img = preprocess_image(img_array)\n",
    "    feature = vgg_model.predict(img).flatten()\n",
    "    return feature\n",
    "\n",
    "# Load the workbook or create a new one\n",
    "excel_file_path = 'recognized_faces.xlsx'\n",
    "if os.path.exists(excel_file_path):\n",
    "    workbook = openpyxl.load_workbook(excel_file_path)\n",
    "    if 'New' in workbook.sheetnames:\n",
    "        sheet = workbook['New']\n",
    "    else:\n",
    "        sheet = workbook.create_sheet('New')\n",
    "else:\n",
    "    workbook = openpyxl.Workbook()\n",
    "    sheet = workbook.active\n",
    "    sheet.title = 'New'\n",
    "\n",
    "# Function to check if a name exists in the sheet\n",
    "def name_exists(sheet, name):\n",
    "    for row in sheet.iter_rows(values_only=True):\n",
    "        if name in row:\n",
    "            return True\n",
    "    return False\n",
    "\n",
    "def clear_sheet(sheet):\n",
    "    sheet.delete_rows(1, sheet.max_row)"
   ]
  },
  {
   "cell_type": "code",
   "execution_count": null,
   "id": "e8588b2c-32fc-47ce-9ffb-e665c9e9501b",
   "metadata": {},
   "outputs": [],
   "source": [
    "face_cascade = cv2.CascadeClassifier(cv2.data.haarcascades + 'haarcascade_frontalface_default.xml')\n",
    "vgg_model = VGG16(weights='imagenet', include_top=False, input_shape=(224, 224, 3))\n",
    "model = cv2.face.LBPHFaceRecognizer_create() \n",
    "model.train(images, labels)\n",
    "clear_sheet(sheet)"
   ]
  },
  {
   "cell_type": "code",
   "execution_count": null,
   "id": "3a0dd772-fcad-4ccd-9094-eb03984205ea",
   "metadata": {},
   "outputs": [
    {
     "name": "stdout",
     "output_type": "stream",
     "text": [
      "\u001b[1m1/1\u001b[0m \u001b[32m━━━━━━━━━━━━━━━━━━━━\u001b[0m\u001b[37m\u001b[0m \u001b[1m1s\u001b[0m 576ms/step\n",
      "Added 'Yuvaraj' to the Excel sheet.\n",
      "\u001b[1m1/1\u001b[0m \u001b[32m━━━━━━━━━━━━━━━━━━━━\u001b[0m\u001b[37m\u001b[0m \u001b[1m0s\u001b[0m 216ms/step\n",
      "\u001b[1m1/1\u001b[0m \u001b[32m━━━━━━━━━━━━━━━━━━━━\u001b[0m\u001b[37m\u001b[0m \u001b[1m0s\u001b[0m 247ms/step\n",
      "\u001b[1m1/1\u001b[0m \u001b[32m━━━━━━━━━━━━━━━━━━━━\u001b[0m\u001b[37m\u001b[0m \u001b[1m0s\u001b[0m 224ms/step\n",
      "\u001b[1m1/1\u001b[0m \u001b[32m━━━━━━━━━━━━━━━━━━━━\u001b[0m\u001b[37m\u001b[0m \u001b[1m0s\u001b[0m 224ms/step\n",
      "\u001b[1m1/1\u001b[0m \u001b[32m━━━━━━━━━━━━━━━━━━━━\u001b[0m\u001b[37m\u001b[0m \u001b[1m0s\u001b[0m 205ms/step\n",
      "\u001b[1m1/1\u001b[0m \u001b[32m━━━━━━━━━━━━━━━━━━━━\u001b[0m\u001b[37m\u001b[0m \u001b[1m0s\u001b[0m 192ms/step\n"
     ]
    }
   ],
   "source": [
    "webcam = cv2.VideoCapture(0) \n",
    "while True: \n",
    "    (_, im) = webcam.read() \n",
    "    gray = cv2.cvtColor(im, cv2.COLOR_BGR2GRAY) \n",
    "    faces = face_cascade.detectMultiScale(gray, 1.3, 5) \n",
    "    for (x, y, w, h) in faces: \n",
    "        cv2.rectangle(im, (x, y), (x + w, y + h), (255, 0, 0), 2) \n",
    "        face = gray[y:y + h, x:x + w] \n",
    "        face_crop = im[y:y+h, x:x+w]\n",
    "        face_resize = cv2.resize(face, (width, height)) \n",
    "        feature = extract_feature(face_crop)\n",
    "        # Try to recognize the face \n",
    "        prediction = model.predict(face_resize)\n",
    "        beard_prediction = beard_classifier.predict([feature])\n",
    "        beard_name = beard_label_encoder.inverse_transform(beard_prediction)[0]\n",
    "        cv2.rectangle(im, (x, y), (x + w, y + h), (0, 255, 0), 3) \n",
    "\n",
    "        if prediction[1]<500:\n",
    "                        name = '% s' % (names[prediction[0]])\n",
    "                        cv2.putText(im,  name+ beard_name, (x-10, y-10),  cv2.FONT_HERSHEY_PLAIN, 1, (0, 255, 0))\n",
    "                        # Add name to Excel sheet if it doesn't exist\n",
    "                        if not name_exists(sheet, name):\n",
    "                            sheet.append([name,beard_name])\n",
    "                            workbook.save(excel_file_path)\n",
    "                            print(f\"Added '{name}' to the Excel sheet.\")\n",
    "        else:\n",
    "                        cv2.putText(im, 'not recognized', (x-10, y-10), cv2.FONT_HERSHEY_PLAIN, 1, (0, 255, 0)) \n",
    "\n",
    "    cv2.imshow('OpenCV', im) \n",
    "    \n",
    "    if cv2.waitKey(1) & 0xFF == ord('q'):\n",
    "        break\n",
    "\n",
    "webcam.release()\n",
    "cv2.destroyAllWindows()"
   ]
  },
  {
   "cell_type": "code",
   "execution_count": null,
   "id": "1e31bcb4-6d2e-4737-83ad-e10864e1eee4",
   "metadata": {},
   "outputs": [],
   "source": []
  }
 ],
 "metadata": {
  "kernelspec": {
   "display_name": "Python 3",
   "language": "python",
   "name": "python3"
  },
  "language_info": {
   "codemirror_mode": {
    "name": "ipython",
    "version": 3
   },
   "file_extension": ".py",
   "mimetype": "text/x-python",
   "name": "python",
   "nbconvert_exporter": "python",
   "pygments_lexer": "ipython3",
   "version": "3.12.5"
  }
 },
 "nbformat": 4,
 "nbformat_minor": 5
}
